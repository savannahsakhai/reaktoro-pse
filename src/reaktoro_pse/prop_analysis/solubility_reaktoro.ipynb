{
 "cells": [
  {
   "cell_type": "code",
   "execution_count": 1,
   "metadata": {},
   "outputs": [],
   "source": [
    "from reaktoro import *\n",
    "from reaktplot import *\n",
    "import pandas as pd\n",
    "import numpy as np"
   ]
  },
  {
   "cell_type": "code",
   "execution_count": 2,
   "metadata": {},
   "outputs": [],
   "source": [
    "\n",
    "def define_system(mineral): # Create the database\n",
    "    db = SupcrtDatabase(\"supcrtbl\")\n",
    "\n",
    "    # Create an aqueous phase automatically selecting all species with provided elements\n",
    "    aqueousphase = AqueousPhase(speciate(\"H O C Ca Mg K Cl Na S N\"))\n",
    "    aqueousphase.set(ActivityModelPitzer())\n",
    "\n",
    "    # Create a gaseous phase\n",
    "    gaseousphase = GaseousPhase(\"CO2(g)\")\n",
    "    gaseousphase.set(ActivityModelPengRobinson())\n",
    "\n",
    "    # Create a mineral phase\n",
    "    mineralphase = MineralPhase(mineral)\n",
    "\n",
    "    # Create the chemical system\n",
    "    system = ChemicalSystem(db, aqueousphase, gaseousphase, mineralphase)\n",
    "\n",
    "        # Define equilibrium specs\n",
    "    specs = EquilibriumSpecs (system)\n",
    "    specs.temperature()\n",
    "    specs.pressure()\n",
    "    specs.pH()\n",
    "    specs.charge()\n",
    "    specs.openTo(\"Cl-\")\n",
    "\n",
    "    # Define conditions to be satisfied at the chemical equilibrium state\n",
    "    conditions = EquilibriumConditions(specs)\n",
    "    conditions.charge(0.0, \"mol\") # to make sure the mixture is charge neutral\n",
    "\n",
    "    # Define the equilibrium solver\n",
    "    solver = EquilibriumSolver(specs)\n",
    "\n",
    "    # Define aqueous properties\n",
    "    aprops = AqueousProps(system)\n",
    "\n",
    "    return system, conditions, solver, aprops\n",
    "\n"
   ]
  },
  {
   "cell_type": "code",
   "execution_count": 3,
   "metadata": {},
   "outputs": [],
   "source": [
    "def seawater(system,mult=1):\n",
    "\n",
    "    state = ChemicalState(system)\n",
    "    # Seawater composition\n",
    "    state.setTemperature(25, \"celsius\")\n",
    "    state.setPressure(1.0, \"bar\")\n",
    "\n",
    "    state.add(\"H2O(aq)\",     1.0*mult, \"kg\")\n",
    "    state.add(\"Ca+2\"   ,   400*mult, \"mg\")\n",
    "    state.add(\"Mg+2\"   ,  1262*mult, \"mg\")\n",
    "    state.add(\"Na+\"    , 10556*mult, \"mg\")\n",
    "    state.add(\"K+\"     ,   380*mult, \"mg\")\n",
    "    state.add(\"Cl-\"    , 18977.2*mult, \"mg\")\n",
    "    state.add(\"HCO3-\"  ,   140*mult, \"mg\")\n",
    "    state.add(\"SO4-2\"  ,  2646*mult, \"mg\")\n",
    "\n",
    "    return state"
   ]
  },
  {
   "cell_type": "code",
   "execution_count": 4,
   "metadata": {},
   "outputs": [],
   "source": [
    "\n",
    "def solubility_pH_change(df, Conc, conditions, solver, aprops, state, T, pH,mineral, n0mineral):\n",
    "\n",
    "    conditions.temperature(T, \"celsius\")\n",
    "    conditions.pH(pH)\n",
    "    # conditions.charge(0.0)\n",
    "\n",
    "    res = solver.solve(state, conditions)\n",
    "    # assert res.succeeded()\n",
    "\n",
    "    aprops.update(state)\n",
    "    chem_add = float(state.equilibrium().titrantAmount(\"H+\"))\n",
    "\n",
    "    state.set(mineral, n0mineral, \"mol\")\n",
    "    res = solver.solve(state, conditions)\n",
    "    # assert res.succeeded()\n",
    "\n",
    "    # Update aqueous properties\n",
    "    aprops.update(state)\n",
    "\n",
    "    nMieral = float(state.speciesAmount(mineral))\n",
    "\n",
    "    df.loc[len(df)] = [Conc, T, float(aprops.pH()), chem_add, n0mineral - nMieral]"
   ]
  },
  {
   "cell_type": "code",
   "execution_count": 5,
   "metadata": {},
   "outputs": [],
   "source": [
    "mineral = \"Calcite\"\n",
    "n0mineral = 15\n",
    "\n",
    "df_water_calcite = pd.DataFrame(columns=[\"Conc\",\"T\", \"pH\", \"titrantAmount\",  \"deltaCalcite\"])\n",
    "temperatures = np.arange(20,110,10)\n",
    "pHs = [6,7,8,9,10]\n",
    "conc = np.arange(1,8,1)\n",
    "\n",
    "system, conditions, solver, aprops = define_system(mineral)\n",
    "for i in conc:\n",
    "    state = seawater(system,mult=i)\n",
    "    [solubility_pH_change(df_water_calcite, i, conditions, solver, aprops, state, T, p, mineral, n0mineral) for T in temperatures for p in pHs]"
   ]
  },
  {
   "cell_type": "code",
   "execution_count": 6,
   "metadata": {},
   "outputs": [],
   "source": [
    "mineral = \"Anhydrite\"\n",
    "n0mineral = 15\n",
    "\n",
    "df_water_anhydrite = pd.DataFrame(columns=[\"Conc\",\"T\", \"pH\", \"titrantAmount\",  \"deltaAnhydrite\"])\n",
    "temperatures = np.arange(20,110,10)\n",
    "pHs = [6,7,8,9,10]\n",
    "conc = np.arange(1,8,1)\n",
    "\n",
    "system, conditions, solver, aprops = define_system(mineral)\n",
    "for i in conc:\n",
    "    state = seawater(system,mult=i)\n",
    "    [solubility_pH_change(df_water_anhydrite, i, conditions, solver, aprops, state, T, p, mineral, n0mineral) for T in temperatures for p in pHs]"
   ]
  },
  {
   "cell_type": "code",
   "execution_count": 9,
   "metadata": {},
   "outputs": [
    {
     "name": "stdout",
     "output_type": "stream",
     "text": [
      "     Conc      T    pH  titrantAmount  deltaCalcite  deltaAnhydrite\n",
      "0     1.0   20.0   6.0       0.001306  3.485286e-02    6.267075e-02\n",
      "1     1.0   20.0   7.0      -0.051426 -2.504663e-13   -7.460699e-14\n",
      "2     1.0   20.0   8.0      -0.005571  1.776357e-15    1.682405e-10\n",
      "3     1.0   20.0   9.0      -0.000741 -5.329071e-15   -1.389218e-10\n",
      "4     1.0   20.0  10.0      -0.000315  0.000000e+00   -1.739053e-12\n",
      "..    ...    ...   ...            ...           ...             ...\n",
      "310   7.0  100.0   6.0       0.261312 -2.602363e-12    2.201155e-10\n",
      "311   7.0  100.0   7.0      -0.104614  3.552714e-15   -8.881784e-15\n",
      "312   7.0  100.0   8.0      -0.010729 -6.927792e-14    8.881784e-15\n",
      "313   7.0  100.0   9.0      -0.026601 -1.776357e-15   -1.755396e-11\n",
      "314   7.0  100.0  10.0      -0.188583 -1.776357e-15   -4.334311e-13\n",
      "\n",
      "[315 rows x 6 columns]\n"
     ]
    }
   ],
   "source": [
    "df_sol = pd.concat([df_water_calcite, df_water_anhydrite[\"deltaAnhydrite\"]], axis=1)\n",
    "\n",
    "print(df_sol)\n",
    "\n"
   ]
  },
  {
   "cell_type": "code",
   "execution_count": 11,
   "metadata": {},
   "outputs": [],
   "source": [
    "df_sol.to_csv(\"solubility_data.csv\")"
   ]
  }
 ],
 "metadata": {
  "kernelspec": {
   "display_name": "reaktoro-pse-dev",
   "language": "python",
   "name": "python3"
  },
  "language_info": {
   "codemirror_mode": {
    "name": "ipython",
    "version": 3
   },
   "file_extension": ".py",
   "mimetype": "text/x-python",
   "name": "python",
   "nbconvert_exporter": "python",
   "pygments_lexer": "ipython3",
   "version": "3.11.10"
  }
 },
 "nbformat": 4,
 "nbformat_minor": 2
}
